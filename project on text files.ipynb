{
 "cells": [
  {
   "cell_type": "code",
   "execution_count": 1,
   "id": "0cf5dd7a",
   "metadata": {},
   "outputs": [],
   "source": [
    "import pandas as pd"
   ]
  },
  {
   "cell_type": "markdown",
   "id": "35636196",
   "metadata": {},
   "source": [
    "# reading conv.txt file by setting colon \":\" as delimiter ,header as none and creating attribute names as character and dialogues"
   ]
  },
  {
   "cell_type": "code",
   "execution_count": 2,
   "id": "5156874b",
   "metadata": {},
   "outputs": [
    {
     "data": {
      "text/html": [
       "<div>\n",
       "<style scoped>\n",
       "    .dataframe tbody tr th:only-of-type {\n",
       "        vertical-align: middle;\n",
       "    }\n",
       "\n",
       "    .dataframe tbody tr th {\n",
       "        vertical-align: top;\n",
       "    }\n",
       "\n",
       "    .dataframe thead th {\n",
       "        text-align: right;\n",
       "    }\n",
       "</style>\n",
       "<table border=\"1\" class=\"dataframe\">\n",
       "  <thead>\n",
       "    <tr style=\"text-align: right;\">\n",
       "      <th></th>\n",
       "      <th>Character</th>\n",
       "      <th>dialogues</th>\n",
       "    </tr>\n",
       "  </thead>\n",
       "  <tbody>\n",
       "    <tr>\n",
       "      <th>0</th>\n",
       "      <td>WILL</td>\n",
       "      <td>I’ve never seen wildlings do a thing like thi...</td>\n",
       "    </tr>\n",
       "    <tr>\n",
       "      <th>1</th>\n",
       "      <td>WAYMAR ROYCE</td>\n",
       "      <td>How close did you get?</td>\n",
       "    </tr>\n",
       "    <tr>\n",
       "      <th>2</th>\n",
       "      <td>WILL</td>\n",
       "      <td>Close as any man would.</td>\n",
       "    </tr>\n",
       "    <tr>\n",
       "      <th>3</th>\n",
       "      <td>GARED</td>\n",
       "      <td>We should head back to the wall.</td>\n",
       "    </tr>\n",
       "    <tr>\n",
       "      <th>4</th>\n",
       "      <td>ROYCE</td>\n",
       "      <td>Do the dead frighten you?</td>\n",
       "    </tr>\n",
       "  </tbody>\n",
       "</table>\n",
       "</div>"
      ],
      "text/plain": [
       "      Character                                          dialogues\n",
       "0          WILL   I’ve never seen wildlings do a thing like thi...\n",
       "1  WAYMAR ROYCE                             How close did you get?\n",
       "2          WILL                            Close as any man would.\n",
       "3         GARED                   We should head back to the wall.\n",
       "4         ROYCE                          Do the dead frighten you?"
      ]
     },
     "execution_count": 2,
     "metadata": {},
     "output_type": "execute_result"
    }
   ],
   "source": [
    "df = pd.read_csv(\"conv.txt\",delimiter = ':',header=None,names=[\"Character\", \"dialogues\"])\n",
    "df.head()"
   ]
  },
  {
   "cell_type": "markdown",
   "id": "1c042dfe",
   "metadata": {},
   "source": [
    "# 1. Number of unique characters "
   ]
  },
  {
   "cell_type": "code",
   "execution_count": 3,
   "id": "19e4bf5a",
   "metadata": {},
   "outputs": [
    {
     "name": "stdout",
     "output_type": "stream",
     "text": [
      "Number of unique character are: 17\n",
      "They are: ['WILL' 'WAYMAR ROYCE' 'GARED' 'ROYCE' 'JON' 'SEPTA MORDANE' 'SANSA' 'NED'\n",
      " 'ROBB' 'CASSEL' 'CATELYN' 'BRAN' 'THEON' 'CERSEI' 'JAIME' 'ROBERT' 'ARYA']\n"
     ]
    }
   ],
   "source": [
    "number_of_unique_characters=df.Character.unique()\n",
    "#number of unique character\n",
    "print(\"Number of unique character are:\",len(number_of_unique_characters))\n",
    "print(\"They are:\",number_of_unique_characters)\n"
   ]
  },
  {
   "cell_type": "markdown",
   "id": "fe36e05b",
   "metadata": {},
   "source": [
    "# 2.Creating a new text file for each of the characters with their name and store the unique words\n"
   ]
  },
  {
   "cell_type": "code",
   "execution_count": 4,
   "id": "90e54615",
   "metadata": {},
   "outputs": [
    {
     "data": {
      "text/html": [
       "<div>\n",
       "<style scoped>\n",
       "    .dataframe tbody tr th:only-of-type {\n",
       "        vertical-align: middle;\n",
       "    }\n",
       "\n",
       "    .dataframe tbody tr th {\n",
       "        vertical-align: top;\n",
       "    }\n",
       "\n",
       "    .dataframe thead th {\n",
       "        text-align: right;\n",
       "    }\n",
       "</style>\n",
       "<table border=\"1\" class=\"dataframe\">\n",
       "  <thead>\n",
       "    <tr style=\"text-align: right;\">\n",
       "      <th></th>\n",
       "      <th>Character</th>\n",
       "      <th>dialogues</th>\n",
       "    </tr>\n",
       "  </thead>\n",
       "  <tbody>\n",
       "    <tr>\n",
       "      <th>0</th>\n",
       "      <td>WILL</td>\n",
       "      <td>I’ve never seen wildlings do a thing like thi...</td>\n",
       "    </tr>\n",
       "    <tr>\n",
       "      <th>1</th>\n",
       "      <td>WAYMAR ROYCE</td>\n",
       "      <td>How close did you get?</td>\n",
       "    </tr>\n",
       "    <tr>\n",
       "      <th>2</th>\n",
       "      <td>WILL</td>\n",
       "      <td>Close as any man would.</td>\n",
       "    </tr>\n",
       "    <tr>\n",
       "      <th>3</th>\n",
       "      <td>GARED</td>\n",
       "      <td>We should head back to the wall.</td>\n",
       "    </tr>\n",
       "    <tr>\n",
       "      <th>4</th>\n",
       "      <td>ROYCE</td>\n",
       "      <td>Do the dead frighten you?</td>\n",
       "    </tr>\n",
       "  </tbody>\n",
       "</table>\n",
       "</div>"
      ],
      "text/plain": [
       "      Character                                          dialogues\n",
       "0          WILL   I’ve never seen wildlings do a thing like thi...\n",
       "1  WAYMAR ROYCE                             How close did you get?\n",
       "2          WILL                            Close as any man would.\n",
       "3         GARED                   We should head back to the wall.\n",
       "4         ROYCE                          Do the dead frighten you?"
      ]
     },
     "execution_count": 4,
     "metadata": {},
     "output_type": "execute_result"
    }
   ],
   "source": [
    "df = pd.read_csv(\"conv.txt\",delimiter = ':',header=None,names=[\"Character\", \"dialogues\"])\n",
    "df.head()"
   ]
  },
  {
   "cell_type": "code",
   "execution_count": 5,
   "id": "830017df",
   "metadata": {},
   "outputs": [
    {
     "data": {
      "text/html": [
       "<div>\n",
       "<style scoped>\n",
       "    .dataframe tbody tr th:only-of-type {\n",
       "        vertical-align: middle;\n",
       "    }\n",
       "\n",
       "    .dataframe tbody tr th {\n",
       "        vertical-align: top;\n",
       "    }\n",
       "\n",
       "    .dataframe thead th {\n",
       "        text-align: right;\n",
       "    }\n",
       "</style>\n",
       "<table border=\"1\" class=\"dataframe\">\n",
       "  <thead>\n",
       "    <tr style=\"text-align: right;\">\n",
       "      <th></th>\n",
       "      <th>Character</th>\n",
       "      <th>dialogues</th>\n",
       "    </tr>\n",
       "  </thead>\n",
       "  <tbody>\n",
       "    <tr>\n",
       "      <th>0</th>\n",
       "      <td>WILL</td>\n",
       "      <td>I’ve never seen wildlings do a thing like thi...</td>\n",
       "    </tr>\n",
       "    <tr>\n",
       "      <th>2</th>\n",
       "      <td>WILL</td>\n",
       "      <td>Close as any man would.</td>\n",
       "    </tr>\n",
       "    <tr>\n",
       "      <th>7</th>\n",
       "      <td>WILL</td>\n",
       "      <td>Whatever did it to them could do it to us. Th...</td>\n",
       "    </tr>\n",
       "    <tr>\n",
       "      <th>10</th>\n",
       "      <td>WILL</td>\n",
       "      <td>They were here.</td>\n",
       "    </tr>\n",
       "  </tbody>\n",
       "</table>\n",
       "</div>"
      ],
      "text/plain": [
       "   Character                                          dialogues\n",
       "0       WILL   I’ve never seen wildlings do a thing like thi...\n",
       "2       WILL                            Close as any man would.\n",
       "7       WILL   Whatever did it to them could do it to us. Th...\n",
       "10      WILL                                    They were here."
      ]
     },
     "execution_count": 5,
     "metadata": {},
     "output_type": "execute_result"
    }
   ],
   "source": [
    "df1 = df[df.Character=='WILL']\n",
    "df1"
   ]
  },
  {
   "cell_type": "code",
   "execution_count": 6,
   "id": "946e19a5",
   "metadata": {},
   "outputs": [],
   "source": [
    "def func(df):\n",
    "    characters = df.Character.unique()\n",
    "    a = {}\n",
    "    for i in range(len(characters)):\n",
    "        df1 = df[df['Character']==characters[i]]\n",
    "        a[characters[i]] = list(set((df1['dialogues'].sum()).split(' ')))\n",
    "    return a"
   ]
  },
  {
   "cell_type": "code",
   "execution_count": 7,
   "id": "e9eb850d",
   "metadata": {},
   "outputs": [],
   "source": [
    "c=func(df)"
   ]
  },
  {
   "cell_type": "code",
   "execution_count": 8,
   "id": "158516f9",
   "metadata": {},
   "outputs": [],
   "source": [
    "def file_create(c):\n",
    "    for key,values in c.items():\n",
    "        f = open(f\"{key}.txt\", \"w\")\n",
    "        for i in values:\n",
    "            f.write(i)\n",
    "            f.write('\\n')\n",
    "        f.close()"
   ]
  },
  {
   "cell_type": "code",
   "execution_count": 9,
   "id": "ad79732d",
   "metadata": {},
   "outputs": [],
   "source": [
    "\n",
    "file_create(c)"
   ]
  },
  {
   "cell_type": "code",
   "execution_count": 10,
   "id": "206a077e",
   "metadata": {},
   "outputs": [
    {
     "data": {
      "text/plain": [
       "'C:\\\\Users\\\\kwali\\\\2. PROJECT'"
      ]
     },
     "execution_count": 10,
     "metadata": {},
     "output_type": "execute_result"
    }
   ],
   "source": [
    "pwd"
   ]
  }
 ],
 "metadata": {
  "kernelspec": {
   "display_name": "Python 3 (ipykernel)",
   "language": "python",
   "name": "python3"
  },
  "language_info": {
   "codemirror_mode": {
    "name": "ipython",
    "version": 3
   },
   "file_extension": ".py",
   "mimetype": "text/x-python",
   "name": "python",
   "nbconvert_exporter": "python",
   "pygments_lexer": "ipython3",
   "version": "3.9.7"
  },
  "vscode": {
   "interpreter": {
    "hash": "0ec8e0d0d7d3dea02d27c0a16f083bb994f2be6e6cb160f58820902823a2a331"
   }
  }
 },
 "nbformat": 4,
 "nbformat_minor": 5
}
